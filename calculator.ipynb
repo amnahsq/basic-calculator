{
  "nbformat": 4,
  "nbformat_minor": 0,
  "metadata": {
    "colab": {
      "provenance": [],
      "authorship_tag": "ABX9TyMH2H7VFyDerukQP4sB58MF",
      "include_colab_link": true
    },
    "kernelspec": {
      "name": "python3",
      "display_name": "Python 3"
    },
    "language_info": {
      "name": "python"
    }
  },
  "cells": [
    {
      "cell_type": "markdown",
      "metadata": {
        "id": "view-in-github",
        "colab_type": "text"
      },
      "source": [
        "<a href=\"https://colab.research.google.com/github/amnahsq/basic-calculator/blob/main/calculator.ipynb\" target=\"_parent\"><img src=\"https://colab.research.google.com/assets/colab-badge.svg\" alt=\"Open In Colab\"/></a>"
      ]
    },
    {
      "cell_type": "code",
      "execution_count": 3,
      "metadata": {
        "colab": {
          "base_uri": "https://localhost:8080/"
        },
        "id": "CLQkz7slBZ0m",
        "outputId": "0704c4af-ebf0-4a17-a9f8-618a4c65f128"
      },
      "outputs": [
        {
          "output_type": "stream",
          "name": "stdout",
          "text": [
            "Welcome to the Simple Calculator!\n",
            "Select an operation:\n",
            "1. Addition (+)\n",
            "2. Subtraction (-)\n",
            "3. Multiplication (*)\n",
            "4. Division (/)\n",
            "Enter the operation (1/2/3/4): 3\n",
            "Enter first number: 6\n",
            "Enter second number: 3\n",
            "The result of 6.0 * 3.0 is: 18.0\n"
          ]
        }
      ],
      "source": [
        "# Simple Calculator in Google Colab\n",
        "\n",
        "# Function to perform the calculation\n",
        "def calculator():\n",
        "    print(\"Welcome to the Simple Calculator!\")\n",
        "    print(\"Select an operation:\")\n",
        "    print(\"1. Addition (+)\")\n",
        "    print(\"2. Subtraction (-)\")\n",
        "    print(\"3. Multiplication (*)\")\n",
        "    print(\"4. Division (/)\")\n",
        "\n",
        "    # User input for operation choice\n",
        "    operation = input(\"Enter the operation (1/2/3/4): \")\n",
        "\n",
        "    # User input for numbers\n",
        "    try:\n",
        "        num1 = float(input(\"Enter first number: \"))\n",
        "        num2 = float(input(\"Enter second number: \"))\n",
        "\n",
        "        # Perform calculation based on the operation selected\n",
        "        if operation == '1':\n",
        "            result = num1 + num2\n",
        "            print(f\"The result of {num1} + {num2} is: {result}\")\n",
        "        elif operation == '2':\n",
        "            result = num1 - num2\n",
        "            print(f\"The result of {num1} - {num2} is: {result}\")\n",
        "        elif operation == '3':\n",
        "            result = num1 * num2\n",
        "            print(f\"The result of {num1} * {num2} is: {result}\")\n",
        "        elif operation == '4':\n",
        "            if num2 != 0:\n",
        "                result = num1 / num2\n",
        "                print(f\"The result of {num1} / {num2} is: {result}\")\n",
        "            else:\n",
        "                print(\"Error: Division by zero is not allowed.\")\n",
        "        else:\n",
        "            print(\"Invalid operation. Please select a valid operation.\")\n",
        "\n",
        "    except ValueError:\n",
        "        print(\"Invalid input. Please enter numeric values.\")\n",
        "\n",
        "# Run the calculator function\n",
        "calculator()\n"
      ]
    }
  ]
}