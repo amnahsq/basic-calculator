{
  "nbformat": 4,
  "nbformat_minor": 0,
  "metadata": {
    "colab": {
      "provenance": [],
      "authorship_tag": "ABX9TyPBQhcRmEmvxfPjfNoeUehO",
      "include_colab_link": true
    },
    "kernelspec": {
      "name": "python3",
      "display_name": "Python 3"
    },
    "language_info": {
      "name": "python"
    }
  },
  "cells": [
    {
      "cell_type": "markdown",
      "metadata": {
        "id": "view-in-github",
        "colab_type": "text"
      },
      "source": [
        "<a href=\"https://colab.research.google.com/github/amnahsq/basic-calculator/blob/main/app_py.ipynb\" target=\"_parent\"><img src=\"https://colab.research.google.com/assets/colab-badge.svg\" alt=\"Open In Colab\"/></a>"
      ]
    },
    {
      "cell_type": "code",
      "source": [
        "import streamlit as st\n",
        "\n",
        "def calculate(num1, num2, operation):\n",
        "    if operation == '+':\n",
        "        return num1 + num2\n",
        "    elif operation == '-':\n",
        "        return num1 - num2\n",
        "    elif operation == '*':\n",
        "        return num1 * num2\n",
        "    elif operation == '/':\n",
        "        if num2 == 0:\n",
        "            return \"Error: Division by zero is not allowed.\"\n",
        "        return num1 / num2\n",
        "    else:\n",
        "        return \"Invalid operation\"\n",
        "\n",
        "# Streamlit App Interface\n",
        "st.title(\"Simple Calculator\")\n",
        "st.write(\"Enter two numbers and select an operation to calculate the result.\")\n",
        "\n",
        "# User inputs\n",
        "num1 = st.number_input(\"Enter the first number:\", step=1.0)\n",
        "num2 = st.number_input(\"Enter the second number:\", step=1.0)\n",
        "operation = st.selectbox(\"Select an operation:\", (\"+\", \"-\", \"*\", \"/\"))\n",
        "\n",
        "# Calculate and display result when button is clicked\n",
        "if st.button(\"Calculate\"):\n",
        "    result = calculate(num1, num2, operation)\n",
        "    st.write(f\"The result of {num1} {operation} {num2} is: {result}\")\n"
      ],
      "metadata": {
        "id": "V6YsOs9CrjTH"
      },
      "execution_count": null,
      "outputs": []
    }
  ]
}